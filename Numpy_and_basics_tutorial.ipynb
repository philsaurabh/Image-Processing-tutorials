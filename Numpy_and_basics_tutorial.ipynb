{
  "nbformat": 4,
  "nbformat_minor": 0,
  "metadata": {
    "colab": {
      "name": "Numpy and basics tutorial.ipynb",
      "provenance": [],
      "collapsed_sections": [],
      "include_colab_link": true
    },
    "kernelspec": {
      "name": "python3",
      "display_name": "Python 3"
    }
  },
  "cells": [
    {
      "cell_type": "markdown",
      "metadata": {
        "id": "view-in-github",
        "colab_type": "text"
      },
      "source": [
        "<a href=\"https://colab.research.google.com/github/philsaurabh/Image-Processing-tutorials/blob/main/Numpy_and_basics_tutorial.ipynb\" target=\"_parent\"><img src=\"https://colab.research.google.com/assets/colab-badge.svg\" alt=\"Open In Colab\"/></a>"
      ]
    },
    {
      "cell_type": "markdown",
      "source": [
        "# Lists: \n",
        "Like dynamic sized arrays, declared in other languages (vector in C++ and ArrayList in Java). Lists need not be homogeneous.\n",
        "\n",
        "# Tuple:\n",
        "A Tuple is a collection of Python objects separated by commas. In someways a tuple is similar to a list in terms of indexing, nested objects and repetition but a tuple is immutable unlike lists that are mutable.\n",
        "\n",
        "# Set: \n",
        "A Set is an unordered collection data type that is iterable, mutable and has no duplicate elements. Python’s set class represents the mathematical notion of a set.\n",
        "\n",
        "\n",
        "\n",
        "# Dictionary: \n",
        "It is an unordered collection of data values, used to store data values like a map, which unlike other Data Types that hold only single value as an element, Dictionary holds key:value pair."
      ],
      "metadata": {
        "id": "PrUdCDRznqkj"
      }
    },
    {
      "cell_type": "code",
      "source": [
        "# Lists\n",
        "l = []\n",
        "\n",
        "# Adding Element into list\n",
        "l.append(5)\n",
        "l.append(10)\n",
        "l.append(5)\n",
        "print(\"Adding 5 and 10 in list\", l)\n"
      ],
      "metadata": {
        "colab": {
          "base_uri": "https://localhost:8080/"
        },
        "id": "8-LMIqConeyj",
        "outputId": "c924ef9e-08f1-48cf-b753-55d3e7571f55"
      },
      "execution_count": 1,
      "outputs": [
        {
          "output_type": "stream",
          "name": "stdout",
          "text": [
            "Adding 5 and 10 in list [5, 10, 5]\n"
          ]
        }
      ]
    },
    {
      "cell_type": "code",
      "source": [
        "# Popping Elements from list\n",
        "l.pop()\n",
        "print(\"Popped one element from list\", l)\n",
        "print()"
      ],
      "metadata": {
        "colab": {
          "base_uri": "https://localhost:8080/"
        },
        "id": "ACp-LRuroIW6",
        "outputId": "0d1b6cf6-8769-4b73-a110-4243f3705453"
      },
      "execution_count": 2,
      "outputs": [
        {
          "output_type": "stream",
          "name": "stdout",
          "text": [
            "Popped one element from list [5, 10]\n",
            "\n"
          ]
        }
      ]
    },
    {
      "cell_type": "code",
      "source": [
        "\n",
        "# Set\n",
        "s = set()\n",
        "\n",
        "# Adding element into set, but elements are not duplicated.\n",
        "s.add(5)\n",
        "s.add(10)\n",
        "s.add(5)\n",
        "print(\"Adding 5 and 10 in set\", s)\n",
        "\n",
        "# Removing element from set\n",
        "s.remove(5)\n",
        "print(\"Removing 5 from set\", s)\n",
        "print()"
      ],
      "metadata": {
        "colab": {
          "base_uri": "https://localhost:8080/"
        },
        "id": "xW5R21lgoSAw",
        "outputId": "c622051e-8539-46a4-b554-024638f133d0"
      },
      "execution_count": 3,
      "outputs": [
        {
          "output_type": "stream",
          "name": "stdout",
          "text": [
            "Adding 5 and 10 in set {10, 5}\n",
            "Removing 5 from set {10}\n",
            "\n"
          ]
        }
      ]
    },
    {
      "cell_type": "code",
      "source": [
        "# Tuple\n",
        "t = tuple(l)\n",
        "\n",
        "# Tuples are immutable,  i.e,  we can not make any changes in tuple\n",
        "print(\"Tuple\", t)\n",
        "print()"
      ],
      "metadata": {
        "colab": {
          "base_uri": "https://localhost:8080/"
        },
        "id": "kiITc4iGoVOC",
        "outputId": "ab9f1518-b58d-4f57-8893-370b5400f5b1"
      },
      "execution_count": 4,
      "outputs": [
        {
          "output_type": "stream",
          "name": "stdout",
          "text": [
            "Tuple (5, 10)\n",
            "\n"
          ]
        }
      ]
    },
    {
      "cell_type": "code",
      "source": [
        "# Dictionary\n",
        "d = {}\n",
        "# Keys are not duplicated.\n",
        "# Adding the key value pair\n",
        "d[5] = \"Five\"\n",
        "d[10] = \"Ten\"\n",
        "print(\"Dictionary\", d)\n",
        "\n",
        "# Removing key-value pair\n",
        "del d[10]\n",
        "print(\"Dictionary\", d)"
      ],
      "metadata": {
        "colab": {
          "base_uri": "https://localhost:8080/"
        },
        "id": "FUt9K-TsoXli",
        "outputId": "95934b3d-8cdc-4761-d173-2ee684d634af"
      },
      "execution_count": 5,
      "outputs": [
        {
          "output_type": "stream",
          "name": "stdout",
          "text": [
            "Dictionary {5: 'Five', 10: 'Ten'}\n",
            "Dictionary {5: 'Five'}\n"
          ]
        }
      ]
    },
    {
      "cell_type": "markdown",
      "source": [
        "# Install necessary libraries\n",
        "## Numpy:\n",
        "NumPy(Numerical Python) is a Python library used for working with arrays. In Python we have lists that serve the purpose of arrays, but they are slow to process. \n",
        "* NumPy aims to provide an array object that is up to 50x faster than traditional Python lists.\n",
        "\n",
        "* **locality of reference:** NumPy arrays are stored at one continuous place in memory unlike lists, so processes can access and manipulate them very efficiently.\n",
        "\n",
        "* **To install:**  pip install numpy"
      ],
      "metadata": {
        "id": "0GT5XKIjNqZx"
      }
    },
    {
      "cell_type": "code",
      "metadata": {
        "colab": {
          "base_uri": "https://localhost:8080/"
        },
        "id": "EcIyU3L786EG",
        "outputId": "28be8a96-407a-4e3d-be60-c9b6ebc35a6a"
      },
      "source": [
        "import numpy as np\n",
        "\n",
        "arr = np.array([1, 2, 3, 4, 5])\n",
        "print(arr)\n",
        "print(type(arr))"
      ],
      "execution_count": 6,
      "outputs": [
        {
          "output_type": "stream",
          "name": "stdout",
          "text": [
            "[1 2 3 4 5]\n",
            "<class 'numpy.ndarray'>\n"
          ]
        }
      ]
    },
    {
      "cell_type": "code",
      "metadata": {
        "colab": {
          "base_uri": "https://localhost:8080/"
        },
        "id": "sTV3ifHRc3sh",
        "outputId": "3874ea11-e0f8-49f3-da03-f8d02c7d6f37"
      },
      "source": [
        "l=[ [1,2], [3, \"a\"]]\n",
        "m=np.array(l)\n",
        "print (m, type(m), m.shape)"
      ],
      "execution_count": 7,
      "outputs": [
        {
          "output_type": "stream",
          "name": "stdout",
          "text": [
            "[['1' '2']\n",
            " ['3' 'a']] <class 'numpy.ndarray'> (2, 2)\n"
          ]
        }
      ]
    },
    {
      "cell_type": "markdown",
      "metadata": {
        "id": "8aQPY8Ow-DSm"
      },
      "source": [
        "# **Dimensions**"
      ]
    },
    {
      "cell_type": "code",
      "metadata": {
        "colab": {
          "base_uri": "https://localhost:8080/"
        },
        "id": "pJZmJkDh-BIJ",
        "outputId": "151d8491-6784-43f9-f18d-0416b6566c4d"
      },
      "source": [
        "a = np.array(42)\n",
        "b = np.array([1, 2, 3, 4, 5])\n",
        "c = np.array([[1, 2, 3], [4, 5, 6]])\n",
        "d = np.array([[[1, 2, 3], [4, 5, 6]], [[1, 2, 3], [4, 5, 6]]])\n",
        "\n",
        "print(a.ndim)\n",
        "print(b.ndim)\n",
        "print(c.ndim)\n",
        "print(d.ndim) \n",
        "\n",
        "arr = np.array([1, 2, 3, 4], ndmin=5)\n",
        "print(arr)\n",
        "print('number of dimensions :', arr.ndim)"
      ],
      "execution_count": 8,
      "outputs": [
        {
          "output_type": "stream",
          "name": "stdout",
          "text": [
            "0\n",
            "1\n",
            "2\n",
            "3\n",
            "[[[[[1 2 3 4]]]]]\n",
            "number of dimensions : 5\n"
          ]
        }
      ]
    },
    {
      "cell_type": "markdown",
      "metadata": {
        "id": "RWxDab-K_xpB"
      },
      "source": [
        "# **Access Elements of Array**"
      ]
    },
    {
      "cell_type": "code",
      "metadata": {
        "colab": {
          "base_uri": "https://localhost:8080/"
        },
        "id": "Q6bkwUCr_0JJ",
        "outputId": "5e914f26-9198-4f0a-e1b5-3a80c5071426"
      },
      "source": [
        "arr = np.array([[1,2,3,4,5], [6,7,8,9,10]])\n",
        "print('5th element on 2nd dim: ', arr[1, 4])\n",
        "print('Last element from 2nd dim: ', arr[1, -1])"
      ],
      "execution_count": 9,
      "outputs": [
        {
          "output_type": "stream",
          "name": "stdout",
          "text": [
            "5th element on 2nd dim:  10\n",
            "Last element from 2nd dim:  10\n"
          ]
        }
      ]
    },
    {
      "cell_type": "markdown",
      "metadata": {
        "id": "0DhEUNCqKbEB"
      },
      "source": [
        "# **Datatype**"
      ]
    },
    {
      "cell_type": "code",
      "metadata": {
        "colab": {
          "base_uri": "https://localhost:8080/"
        },
        "id": "fUJyzCOpKdq5",
        "outputId": "7d61f37f-7db3-44d8-eaf2-ffd69d6c0f74"
      },
      "source": [
        "arr = np.array([1, 2.76, 3, 4.8], dtype='f4')\n",
        "print(arr)\n",
        "print(arr.dtype) \n",
        "print (arr.astype(int))"
      ],
      "execution_count": 10,
      "outputs": [
        {
          "output_type": "stream",
          "name": "stdout",
          "text": [
            "[1.   2.76 3.   4.8 ]\n",
            "float32\n",
            "[1 2 3 4]\n"
          ]
        }
      ]
    },
    {
      "cell_type": "code",
      "metadata": {
        "colab": {
          "base_uri": "https://localhost:8080/"
        },
        "id": "6yeqBol-K-0X",
        "outputId": "c7499c8b-604e-4320-f27b-e3b94b41d182"
      },
      "source": [
        "arr = np.array([1, 0, 3, -5])\n",
        "newarr = arr.astype(bool)\n",
        "print(newarr)\n",
        "print(newarr.dtype) "
      ],
      "execution_count": 11,
      "outputs": [
        {
          "output_type": "stream",
          "name": "stdout",
          "text": [
            "[ True False  True  True]\n",
            "bool\n"
          ]
        }
      ]
    },
    {
      "cell_type": "markdown",
      "metadata": {
        "id": "PVlf2MjkDY47"
      },
      "source": [
        "# **Slicing**"
      ]
    },
    {
      "cell_type": "code",
      "metadata": {
        "colab": {
          "base_uri": "https://localhost:8080/"
        },
        "id": "aY9SKRkEBtRw",
        "outputId": "214d124d-5290-4e39-cafd-0af087c6c030"
      },
      "source": [
        "arr = np.array([1, 2, 3, 4, 5, 6, 7, 8, 9, 10])\n",
        "print(arr[0:6:2])\n",
        "print(arr[-3:-1]) \n",
        "print (arr[::2])"
      ],
      "execution_count": 12,
      "outputs": [
        {
          "output_type": "stream",
          "name": "stdout",
          "text": [
            "[1 3 5]\n",
            "[8 9]\n",
            "[1 3 5 7 9]\n"
          ]
        }
      ]
    },
    {
      "cell_type": "markdown",
      "metadata": {
        "id": "pyVLx4WmLV6m"
      },
      "source": [
        "# **Copy View**"
      ]
    },
    {
      "cell_type": "code",
      "metadata": {
        "colab": {
          "base_uri": "https://localhost:8080/"
        },
        "id": "U0PMnb9DLbZA",
        "outputId": "cfd06f17-d152-41ef-ca35-ac95389d5cc4"
      },
      "source": [
        "arr = np.array([1, 2, 3, 4, 5])\n",
        "x = arr.copy()\n",
        "arr[0] = 42\n",
        "print(arr)\n",
        "print(x) "
      ],
      "execution_count": 13,
      "outputs": [
        {
          "output_type": "stream",
          "name": "stdout",
          "text": [
            "[42  2  3  4  5]\n",
            "[1 2 3 4 5]\n"
          ]
        }
      ]
    },
    {
      "cell_type": "code",
      "metadata": {
        "colab": {
          "base_uri": "https://localhost:8080/"
        },
        "id": "yaaxeEI7Lm0D",
        "outputId": "d8fcabaa-9fcf-4532-fbfe-8100826c329b"
      },
      "source": [
        "arr = np.array([1, 2, 3, 4, 5])\n",
        "x = arr.copy()\n",
        "y = arr.view()\n",
        "print(x.base)\n",
        "print(y.base) "
      ],
      "execution_count": 14,
      "outputs": [
        {
          "output_type": "stream",
          "name": "stdout",
          "text": [
            "None\n",
            "[1 2 3 4 5]\n"
          ]
        }
      ]
    },
    {
      "cell_type": "markdown",
      "metadata": {
        "id": "SZZrimUMbFc-"
      },
      "source": [
        "# **Reshape**"
      ]
    },
    {
      "cell_type": "code",
      "metadata": {
        "colab": {
          "base_uri": "https://localhost:8080/"
        },
        "id": "kKFSQPcobHIe",
        "outputId": "a99e389f-94da-486e-be19-5638d2ca549b"
      },
      "source": [
        "arr = np.array([1, 2, 3, 4, 5, 6, 7, 8])\n",
        "print (arr.reshape(2, 4))\n",
        "print(arr.reshape(2, 4).base)"
      ],
      "execution_count": 15,
      "outputs": [
        {
          "output_type": "stream",
          "name": "stdout",
          "text": [
            "[[1 2 3 4]\n",
            " [5 6 7 8]]\n",
            "[1 2 3 4 5 6 7 8]\n"
          ]
        }
      ]
    },
    {
      "cell_type": "markdown",
      "metadata": {
        "id": "tCgrFvkXblhP"
      },
      "source": [
        "# **Iterate**"
      ]
    },
    {
      "cell_type": "code",
      "metadata": {
        "id": "3NYGiOQCbnXp",
        "colab": {
          "base_uri": "https://localhost:8080/"
        },
        "outputId": "ba8609ee-ac9e-48fd-ab31-39385c0b9796"
      },
      "source": [
        "arr = np.array([[1, 2, 3], [4, 5, 6]])\n",
        "\n",
        "#row wise\n",
        "for x in arr:\n",
        "  print(x)\n",
        "  \n",
        "#each element\n",
        "\n",
        "for tup, v in np.ndenumerate(arr):\n",
        "  print (tup, v)\n",
        "\n",
        "for x in np.nditer(arr):\n",
        "  print(x)"
      ],
      "execution_count": 16,
      "outputs": [
        {
          "output_type": "stream",
          "name": "stdout",
          "text": [
            "[1 2 3]\n",
            "[4 5 6]\n",
            "(0, 0) 1\n",
            "(0, 1) 2\n",
            "(0, 2) 3\n",
            "(1, 0) 4\n",
            "(1, 1) 5\n",
            "(1, 2) 6\n",
            "1\n",
            "2\n",
            "3\n",
            "4\n",
            "5\n",
            "6\n"
          ]
        }
      ]
    },
    {
      "cell_type": "code",
      "metadata": {
        "id": "gVWQdchfcNYx",
        "colab": {
          "base_uri": "https://localhost:8080/"
        },
        "outputId": "87779500-a714-4071-b5c5-fd2062dd36ad"
      },
      "source": [
        "#arr = np.array([1, 2, 3])\n",
        "\n",
        "for x in np.nditer(arr, flags=['buffered'], op_dtypes=['S']):\n",
        "  print(x)"
      ],
      "execution_count": 17,
      "outputs": [
        {
          "output_type": "stream",
          "name": "stdout",
          "text": [
            "b'1'\n",
            "b'2'\n",
            "b'3'\n",
            "b'4'\n",
            "b'5'\n",
            "b'6'\n"
          ]
        }
      ]
    },
    {
      "cell_type": "code",
      "metadata": {
        "colab": {
          "base_uri": "https://localhost:8080/"
        },
        "id": "D_eaEGhwO0-S",
        "outputId": "9e44d57f-bd9b-49a2-b759-efa295f8a84a"
      },
      "source": [
        "arr=np.array([1, 2, 3, 4, 5])\n",
        "squaring=lambda t: t**2\n",
        "vfunc=np.vectorize(squaring)\n",
        "vfunc(arr)"
      ],
      "execution_count": 18,
      "outputs": [
        {
          "output_type": "execute_result",
          "data": {
            "text/plain": [
              "array([ 1,  4,  9, 16, 25])"
            ]
          },
          "metadata": {},
          "execution_count": 18
        }
      ]
    },
    {
      "cell_type": "markdown",
      "metadata": {
        "id": "9isYKyMPdpPx"
      },
      "source": [
        "# **Join**"
      ]
    },
    {
      "cell_type": "code",
      "metadata": {
        "id": "WYoqqmQkdq1Q",
        "colab": {
          "base_uri": "https://localhost:8080/"
        },
        "outputId": "f0c748a8-15d2-4c87-a24c-5366492fb5c6"
      },
      "source": [
        "arr1 = np.array([1, 2, 3])\n",
        "arr2 = np.array([4, 5, 6])\n",
        "arr = np.concatenate((arr1, arr2))#default axis=0\n",
        "print(arr)"
      ],
      "execution_count": 19,
      "outputs": [
        {
          "output_type": "stream",
          "name": "stdout",
          "text": [
            "[1 2 3 4 5 6]\n"
          ]
        }
      ]
    },
    {
      "cell_type": "code",
      "metadata": {
        "colab": {
          "base_uri": "https://localhost:8080/"
        },
        "id": "tzsvISgndysD",
        "outputId": "0b5c6c88-c75d-45c3-9af4-8059960e62ca"
      },
      "source": [
        "arr1 = np.array([[1, 2], [3, 4]])\n",
        "arr2 = np.array([[5, 6], [7, 8]])\n",
        "\n",
        "arr = np.concatenate((arr1, arr2), axis=0) ##creating each element of new array by axis\n",
        "print(arr, arr.shape)\n",
        "arr = np.concatenate((arr1, arr2), axis=1) ##creating each element of new array by axis\n",
        "print(arr, arr.shape) "
      ],
      "execution_count": 20,
      "outputs": [
        {
          "output_type": "stream",
          "name": "stdout",
          "text": [
            "[[1 2]\n",
            " [3 4]\n",
            " [5 6]\n",
            " [7 8]] (4, 2)\n",
            "[[1 2 5 6]\n",
            " [3 4 7 8]] (2, 4)\n"
          ]
        }
      ]
    },
    {
      "cell_type": "code",
      "metadata": {
        "colab": {
          "base_uri": "https://localhost:8080/"
        },
        "id": "dicYdd0AeNsc",
        "outputId": "4342cb1d-861e-470a-c523-df8c2f75f764"
      },
      "source": [
        "#stacking\n",
        "\n",
        "#arr1 = np.array([1, 2, 3])\n",
        "#arr2 = np.array([4, 5, 6])\n",
        "arr1 = np.array([[1, 2], [3, 4 ]])\n",
        "arr2 = np.array([[5, 6], [7, 8]])\n",
        "\n",
        "arr = np.stack((arr1, arr2), axis=1)\n",
        "print(arr, arr.shape)"
      ],
      "execution_count": 21,
      "outputs": [
        {
          "output_type": "stream",
          "name": "stdout",
          "text": [
            "[[[1 2]\n",
            "  [5 6]]\n",
            "\n",
            " [[3 4]\n",
            "  [7 8]]] (2, 2, 2)\n"
          ]
        }
      ]
    },
    {
      "cell_type": "code",
      "metadata": {
        "colab": {
          "base_uri": "https://localhost:8080/"
        },
        "id": "_4w1lzzue2uQ",
        "outputId": "6ea3c57a-c397-4505-fc85-cfcf058ac601"
      },
      "source": [
        "arr = np.hstack((arr1, arr2))\n",
        "print (arr, arr.shape)"
      ],
      "execution_count": 22,
      "outputs": [
        {
          "output_type": "stream",
          "name": "stdout",
          "text": [
            "[[1 2 5 6]\n",
            " [3 4 7 8]] (2, 4)\n"
          ]
        }
      ]
    },
    {
      "cell_type": "code",
      "metadata": {
        "colab": {
          "base_uri": "https://localhost:8080/"
        },
        "id": "k0S2FMoQe3YM",
        "outputId": "c0c2bc1f-bd46-45b5-82b6-c6eba84e9536"
      },
      "source": [
        "arr = np.vstack((arr1, arr2))\n",
        "print (arr, arr.shape)"
      ],
      "execution_count": 23,
      "outputs": [
        {
          "output_type": "stream",
          "name": "stdout",
          "text": [
            "[[1 2]\n",
            " [3 4]\n",
            " [5 6]\n",
            " [7 8]] (4, 2)\n"
          ]
        }
      ]
    },
    {
      "cell_type": "code",
      "metadata": {
        "colab": {
          "base_uri": "https://localhost:8080/"
        },
        "id": "jdUC1jNWe8_X",
        "outputId": "abc22fd4-a516-4a09-a500-6467204b0f30"
      },
      "source": [
        "arr = np.dstack((arr1, arr2))\n",
        "print (arr, arr.shape)"
      ],
      "execution_count": 24,
      "outputs": [
        {
          "output_type": "stream",
          "name": "stdout",
          "text": [
            "[[[1 5]\n",
            "  [2 6]]\n",
            "\n",
            " [[3 7]\n",
            "  [4 8]]] (2, 2, 2)\n"
          ]
        }
      ]
    },
    {
      "cell_type": "markdown",
      "metadata": {
        "id": "XXLvItrfiHUb"
      },
      "source": [
        "# **Splitting**"
      ]
    },
    {
      "cell_type": "code",
      "metadata": {
        "colab": {
          "base_uri": "https://localhost:8080/"
        },
        "id": "aEfDLncQiJJi",
        "outputId": "19b13b02-9c98-44b4-a4f5-484b7d5d44bc"
      },
      "source": [
        "arr = np.array([1, 2, 3, 4, 5, 6])\n",
        "\n",
        "newarr = np.array_split(arr, 3)\n",
        "print(newarr)\n",
        "\n",
        "newarr = np.array_split(arr, 4)\n",
        "print(newarr, type(newarr), type(newarr[0])) "
      ],
      "execution_count": 25,
      "outputs": [
        {
          "output_type": "stream",
          "name": "stdout",
          "text": [
            "[array([1, 2]), array([3, 4]), array([5, 6])]\n",
            "[array([1, 2]), array([3, 4]), array([5]), array([6])] <class 'list'> <class 'numpy.ndarray'>\n"
          ]
        }
      ]
    },
    {
      "cell_type": "code",
      "metadata": {
        "id": "e9Df6WICjCkw",
        "colab": {
          "base_uri": "https://localhost:8080/"
        },
        "outputId": "12c15c54-c43a-437f-bf0b-eaecc85d7eb5"
      },
      "source": [
        "arr = np.array([[1, 2, 3], [4, 5, 6], [7, 8, 9], [10, 11, 12], [13, 14, 15], [16, 17, 18]])\n",
        "newarr = np.array_split(arr, 3, axis=1)\n",
        "print(newarr) "
      ],
      "execution_count": 26,
      "outputs": [
        {
          "output_type": "stream",
          "name": "stdout",
          "text": [
            "[array([[ 1],\n",
            "       [ 4],\n",
            "       [ 7],\n",
            "       [10],\n",
            "       [13],\n",
            "       [16]]), array([[ 2],\n",
            "       [ 5],\n",
            "       [ 8],\n",
            "       [11],\n",
            "       [14],\n",
            "       [17]]), array([[ 3],\n",
            "       [ 6],\n",
            "       [ 9],\n",
            "       [12],\n",
            "       [15],\n",
            "       [18]])]\n"
          ]
        }
      ]
    },
    {
      "cell_type": "code",
      "metadata": {
        "id": "4il9K_PfjTA1",
        "colab": {
          "base_uri": "https://localhost:8080/"
        },
        "outputId": "d3603bf4-404f-47b8-97db-342a726987b5"
      },
      "source": [
        "arr = np.array([[1, 2, 3], [4, 5, 6], [7, 8, 9], [10, 11, 12], [13, 14, 15], [16, 17, 18]])\n",
        "newarr = np.hsplit(arr, 3)\n",
        "print(newarr) "
      ],
      "execution_count": 27,
      "outputs": [
        {
          "output_type": "stream",
          "name": "stdout",
          "text": [
            "[array([[ 1],\n",
            "       [ 4],\n",
            "       [ 7],\n",
            "       [10],\n",
            "       [13],\n",
            "       [16]]), array([[ 2],\n",
            "       [ 5],\n",
            "       [ 8],\n",
            "       [11],\n",
            "       [14],\n",
            "       [17]]), array([[ 3],\n",
            "       [ 6],\n",
            "       [ 9],\n",
            "       [12],\n",
            "       [15],\n",
            "       [18]])]\n"
          ]
        }
      ]
    },
    {
      "cell_type": "markdown",
      "metadata": {
        "id": "avqCfhmE7Hep"
      },
      "source": [
        "# **Initialization**"
      ]
    },
    {
      "cell_type": "code",
      "metadata": {
        "id": "jDvSak-j7M7T",
        "colab": {
          "base_uri": "https://localhost:8080/"
        },
        "outputId": "2f8625e7-337b-4c18-bae6-4e2dba2510bd"
      },
      "source": [
        "a=np.random.randint(100)\n",
        "print (a)\n",
        "\n",
        "a=np.random.rand()\n",
        "print (a)\n",
        "\n",
        "a=np.random.randint(low=0, high=100, size=(2,3))\n",
        "print (a)\n",
        "\n",
        "a=np.zeros((2,3)); print (a)\n",
        "a=np.full((2,3), 5); print (a)\n",
        "a=np.random.uniform(low=0, high=100, size=(2,3)); print (a)"
      ],
      "execution_count": 28,
      "outputs": [
        {
          "output_type": "stream",
          "name": "stdout",
          "text": [
            "91\n",
            "0.9761929413599733\n",
            "[[99 11 31]\n",
            " [38  1 15]]\n",
            "[[0. 0. 0.]\n",
            " [0. 0. 0.]]\n",
            "[[5 5 5]\n",
            " [5 5 5]]\n",
            "[[60.08154423 81.00355732 18.29553023]\n",
            " [ 7.85141663 21.60531521 71.5683294 ]]\n"
          ]
        }
      ]
    },
    {
      "cell_type": "markdown",
      "metadata": {
        "id": "XCAkFUoT6Kce"
      },
      "source": [
        "# **Mulitplication**"
      ]
    },
    {
      "cell_type": "code",
      "metadata": {
        "colab": {
          "base_uri": "https://localhost:8080/"
        },
        "id": "fcXx0Ne1EE0o",
        "outputId": "2e848144-4bc4-426e-9456-c76a8381ed38"
      },
      "source": [
        "a=3+8j\n",
        "b=5-2j\n",
        "print (np.dot(a, b), np.dot(6, 7))"
      ],
      "execution_count": 29,
      "outputs": [
        {
          "output_type": "stream",
          "name": "stdout",
          "text": [
            "(31+34j) 42\n"
          ]
        }
      ]
    },
    {
      "cell_type": "code",
      "metadata": {
        "colab": {
          "base_uri": "https://localhost:8080/"
        },
        "id": "jgy2ojMlB7V8",
        "outputId": "86c6ac80-cee6-450a-cb4d-cae5c20423ae"
      },
      "source": [
        "#dot\n",
        "\n",
        "a=np.array([1,2,3])\n",
        "print (a.shape, type(a))\n",
        "b=np.full((3, ), 1)\n",
        "print (b.shape, type(b))\n",
        "d=np.dot(a, b)\n",
        "print (a, b, d, d.shape, type(d))\n",
        "#print (np.dot(2, a))"
      ],
      "execution_count": 30,
      "outputs": [
        {
          "output_type": "stream",
          "name": "stdout",
          "text": [
            "(3,) <class 'numpy.ndarray'>\n",
            "(3,) <class 'numpy.ndarray'>\n",
            "[1 2 3] [1 1 1] 6 () <class 'numpy.int64'>\n"
          ]
        }
      ]
    },
    {
      "cell_type": "markdown",
      "metadata": {
        "id": "_VVaDnX7FX1p"
      },
      "source": [
        "###Q)Normalized Dot Product of two numpy 1-D arrays "
      ]
    },
    {
      "cell_type": "code",
      "metadata": {
        "id": "tHY9SDyMAb94",
        "colab": {
          "base_uri": "https://localhost:8080/"
        },
        "outputId": "89415f82-4b55-4b86-d901-58895f578b92"
      },
      "source": [
        "a=np.full((2, 3, 4), 1)\n",
        "b=np.random.uniform(low=2, high=3, size=(5, 4, 2)).astype(int)\n",
        "print (a.shape)\n",
        "print (b.shape)\n",
        "\n",
        "d=np.dot(a, b)"
      ],
      "execution_count": 31,
      "outputs": [
        {
          "output_type": "stream",
          "name": "stdout",
          "text": [
            "(2, 3, 4)\n",
            "(5, 4, 2)\n"
          ]
        }
      ]
    },
    {
      "cell_type": "code",
      "metadata": {
        "colab": {
          "base_uri": "https://localhost:8080/"
        },
        "id": "Q4ce823m6M6O",
        "outputId": "f646e54f-da91-4ab5-ea06-a2bd48458ae9"
      },
      "source": [
        "#matmul: (n,k),(k,m)->(n,m).\n",
        "\n",
        "a = np.ones([9, 5, 7, 4])\n",
        "c = np.ones([9, 5, 4, 3])\n",
        "e = np.ones([1, 4])\n",
        "print (a.shape, c.shape, e.shape)\n",
        "d=np.dot(a, c)\n",
        "print (d.shape)\n",
        "v=np.matmul(a, c)\n",
        "print (v.shape)\n",
        "#ae=a+e#np.matmul(a, e)\n",
        "#print (ae.shape)"
      ],
      "execution_count": 32,
      "outputs": [
        {
          "output_type": "stream",
          "name": "stdout",
          "text": [
            "(9, 5, 7, 4) (9, 5, 4, 3) (1, 4)\n",
            "(9, 5, 7, 9, 5, 3)\n",
            "(9, 5, 7, 3)\n"
          ]
        }
      ]
    },
    {
      "cell_type": "markdown",
      "metadata": {
        "id": "YWO_rdK_G1Ia"
      },
      "source": [
        "# **Broadcast operation**"
      ]
    },
    {
      "cell_type": "code",
      "metadata": {
        "id": "8T4xWHS4Hvw5"
      },
      "source": [
        "#A way of vectorizing matrix operation.\n",
        "#matrices are treated as element and "
      ],
      "execution_count": 33,
      "outputs": []
    },
    {
      "cell_type": "markdown",
      "metadata": {
        "id": "QZNF7-ffTrNI"
      },
      "source": [
        "## Q)Broadcast matrix e over a for matrix multiplication"
      ]
    }
  ]
}